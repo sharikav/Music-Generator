{
  "nbformat": 4,
  "nbformat_minor": 0,
  "metadata": {
    "colab": {
      "name": "music generator.ipynb",
      "provenance": [],
      "authorship_tag": "ABX9TyP+zNb+0qKnF5t6djcmutNK",
      "include_colab_link": true
    },
    "kernelspec": {
      "name": "python3",
      "display_name": "Python 3"
    },
    "accelerator": "GPU"
  },
  "cells": [
    {
      "cell_type": "markdown",
      "metadata": {
        "id": "view-in-github",
        "colab_type": "text"
      },
      "source": [
        "<a href=\"https://colab.research.google.com/github/sharikav/Music-Generator/blob/master/music_generator.ipynb\" target=\"_parent\"><img src=\"https://colab.research.google.com/assets/colab-badge.svg\" alt=\"Open In Colab\"/></a>"
      ]
    },
    {
      "cell_type": "code",
      "metadata": {
        "id": "fNgfNiMGv1ir",
        "colab_type": "code",
        "colab": {}
      },
      "source": [
        "import glob\n",
        "import pickle\n",
        "import numpy\n",
        "from music21 import converter, instrument, note, chord, stream \n",
        "from keras.models import Sequential\n",
        "from keras.layers import Dense\n",
        "from keras.layers import Dropout\n",
        "from keras.layers import LSTM\n",
        "from keras.layers import Activation\n",
        "from keras.layers import BatchNormalization as BatchNorm\n",
        "from keras.utils import np_utils\n",
        "from keras.callbacks import ModelCheckpoint"
      ],
      "execution_count": null,
      "outputs": []
    },
    {
      "cell_type": "code",
      "metadata": {
        "id": "iYhqwmmQv4JO",
        "colab_type": "code",
        "colab": {}
      },
      "source": [
        "def train_network():\n",
        "    \"\"\" Train a Neural Network to generate music \"\"\"\n",
        "    notes = get_notes()\n",
        "\n",
        "    # get amount of pitch names\n",
        "    n_vocab = len(set(notes))\n",
        "\n",
        "    network_input, network_output = prepare_sequences(notes, n_vocab)\n",
        "\n",
        "    model = create_network(network_input, n_vocab)\n",
        "\n",
        "    train(model, network_input, network_output)"
      ],
      "execution_count": null,
      "outputs": []
    },
    {
      "cell_type": "code",
      "metadata": {
        "id": "NOrPRru_xW8A",
        "colab_type": "code",
        "colab": {}
      },
      "source": [
        "notes= get_notes()"
      ],
      "execution_count": null,
      "outputs": []
    },
    {
      "cell_type": "code",
      "metadata": {
        "id": "fHGlb6L6xtTo",
        "colab_type": "code",
        "colab": {
          "base_uri": "https://localhost:8080/",
          "height": 34
        },
        "outputId": "70de2840-8b15-403f-a522-8bf7f969024c"
      },
      "source": [
        "notes"
      ],
      "execution_count": null,
      "outputs": [
        {
          "output_type": "execute_result",
          "data": {
            "text/plain": [
              "[]"
            ]
          },
          "metadata": {
            "tags": []
          },
          "execution_count": 35
        }
      ]
    },
    {
      "cell_type": "code",
      "metadata": {
        "id": "t3G0SfwlxuUd",
        "colab_type": "code",
        "colab": {}
      },
      "source": [
        ""
      ],
      "execution_count": null,
      "outputs": []
    },
    {
      "cell_type": "code",
      "metadata": {
        "id": "802raq_lv-2z",
        "colab_type": "code",
        "colab": {}
      },
      "source": [
        "def get_notes():\n",
        "    \"\"\" Get all the notes and chords from the midi files in the ./midi_songs directory \"\"\"\n",
        "    notes = []\n",
        "\n",
        "    for file in glob.glob(\"/content/ midi/*.mid\"):\n",
        "        midi = converter.parse(file)\n",
        "\n",
        "        print(\"Parsing %s\" % file)\n",
        "\n",
        "        notes_to_parse = None\n",
        "\n",
        "        try: # file has instrument parts\n",
        "            s2 = instrument.partitionByInstrument(midi)\n",
        "            notes_to_parse = s2.parts[0].recurse() \n",
        "        except: # file has notes in a flat structure\n",
        "            notes_to_parse = midi.flat.notes\n",
        "\n",
        "        for element in notes_to_parse:\n",
        "            if isinstance(element, note.Note):\n",
        "                notes.append(str(element.pitch))\n",
        "            elif isinstance(element, chord.Chord):\n",
        "                notes.append('.'.join(str(n) for n in element.normalOrder))\n",
        "\n",
        "    with open('/content/data/notes', 'wb') as filepath:\n",
        "        pickle.dump(notes, filepath)\n",
        "\n",
        "    return notes"
      ],
      "execution_count": null,
      "outputs": []
    },
    {
      "cell_type": "code",
      "metadata": {
        "id": "fGwjWwyIwPtO",
        "colab_type": "code",
        "colab": {}
      },
      "source": [
        "def prepare_sequences(notes, n_vocab):\n",
        "    \"\"\" Prepare the sequences used by the Neural Network \"\"\"\n",
        "    sequence_length = 100\n",
        "\n",
        "    # get all pitch names\n",
        "    pitchnames = sorted(set(item for item in notes))\n",
        "\n",
        "     # create a dictionary to map pitches to integers\n",
        "    note_to_int = dict((note, number) for number, note in enumerate(pitchnames))\n",
        "\n",
        "    network_input = []\n",
        "    network_output = []\n",
        "\n",
        "    # create input sequences and the corresponding outputs\n",
        "    for i in range(0, len(notes) - sequence_length, 1):\n",
        "        sequence_in = notes[i:i + sequence_length]\n",
        "        sequence_out = notes[i + sequence_length]\n",
        "        network_input.append([note_to_int[char] for char in sequence_in])\n",
        "        network_output.append(note_to_int[sequence_out])\n",
        "\n",
        "    n_patterns = len(network_input)\n",
        "\n",
        "    # reshape the input into a format compatible with LSTM layers\n",
        "    network_input = numpy.reshape(network_input, (n_patterns, sequence_length, 1))\n",
        "    # normalize input\n",
        "    network_input = network_input / float(n_vocab)\n",
        "\n",
        "    network_output = np_utils.to_categorical(network_output)\n",
        "\n",
        "    return (network_input, network_output)"
      ],
      "execution_count": null,
      "outputs": []
    },
    {
      "cell_type": "code",
      "metadata": {
        "id": "D8SEV0gPwWZB",
        "colab_type": "code",
        "colab": {}
      },
      "source": [
        "def create_network(network_input, n_vocab):\n",
        "    \"\"\" create the structure of the neural network \"\"\"\n",
        "    model = Sequential()\n",
        "    model.add(LSTM(\n",
        "        512,\n",
        "        input_shape=(network_input.shape[1], network_input.shape[2]),\n",
        "        recurrent_dropout=0.3,\n",
        "        return_sequences=True\n",
        "    ))\n",
        "    model.add(LSTM(512, return_sequences=True, recurrent_dropout=0.3,))\n",
        "    model.add(LSTM(512))\n",
        "    model.add(BatchNorm())\n",
        "    model.add(Dropout(0.3))\n",
        "    model.add(Dense(256))\n",
        "    model.add(Activation('relu'))\n",
        "    model.add(BatchNorm())\n",
        "    model.add(Dropout(0.3))\n",
        "    model.add(Dense(n_vocab))\n",
        "    model.add(Activation('softmax'))\n",
        "    model.compile(loss='categorical_crossentropy', optimizer='rmsprop')\n",
        "\n",
        "    return model"
      ],
      "execution_count": null,
      "outputs": []
    },
    {
      "cell_type": "code",
      "metadata": {
        "id": "b7c9hxSCxGK4",
        "colab_type": "code",
        "colab": {}
      },
      "source": [
        "def train(model, network_input, network_output):\n",
        "    \"\"\" train the neural network \"\"\"\n",
        "    filepath = \"weights-shark.hdf5\"\n",
        "    checkpoint = ModelCheckpoint(\n",
        "        filepath,\n",
        "        monitor='loss',\n",
        "        verbose=0,\n",
        "        save_best_only=True,\n",
        "        mode='min'\n",
        "    )\n",
        "    callbacks_list = [checkpoint]\n",
        "\n",
        "    model.fit(network_input, network_output, epochs=100, batch_size=128, callbacks=callbacks_list)"
      ],
      "execution_count": null,
      "outputs": []
    },
    {
      "cell_type": "code",
      "metadata": {
        "id": "6USlP1iuxKRQ",
        "colab_type": "code",
        "colab": {}
      },
      "source": [
        "def generate():\n",
        "    \"\"\" Generate a piano midi file \"\"\"\n",
        "    #load the notes used to train the model\n",
        "    with open('/content/data/notes', 'rb') as filepath:\n",
        "        notes = pickle.load(filepath)\n",
        "\n",
        "    # Get all pitch names\n",
        "    pitchnames = sorted(set(item for item in notes))\n",
        "    # Get all pitch names\n",
        "    n_vocab = len(set(notes))\n",
        "\n",
        "    network_input, normalized_input = prepare_sequences1(notes, pitchnames, n_vocab)\n",
        "    model = create_network1(normalized_input, n_vocab)\n",
        "    prediction_output = generate_notes(model, network_input, pitchnames, n_vocab)\n",
        "    create_midi(prediction_output)"
      ],
      "execution_count": null,
      "outputs": []
    },
    {
      "cell_type": "code",
      "metadata": {
        "id": "G46wHy5txngM",
        "colab_type": "code",
        "colab": {}
      },
      "source": [
        "def prepare_sequences1(notes, pitchnames, n_vocab):\n",
        "    \"\"\" Prepare the sequences used by the Neural Network \"\"\"\n",
        "    # map between notes and integers and back\n",
        "    note_to_int = dict((note, number) for number, note in enumerate(pitchnames))\n",
        "\n",
        "    sequence_length = 100\n",
        "    network_input = []\n",
        "    output = []\n",
        "    for i in range(0, len(notes) - sequence_length, 1):\n",
        "        sequence_in = notes[i:i + sequence_length]\n",
        "        sequence_out = notes[i + sequence_length]\n",
        "        network_input.append([note_to_int[char] for char in sequence_in])\n",
        "        output.append(note_to_int[sequence_out])\n",
        "\n",
        "    n_patterns = len(network_input)\n",
        "\n",
        "    # reshape the input into a format compatible with LSTM layers\n",
        "    normalized_input = numpy.reshape(network_input, (n_patterns, sequence_length, 1))\n",
        "    # normalize input\n",
        "    normalized_input = normalized_input / float(n_vocab)\n",
        "\n",
        "    return (network_input, normalized_input)"
      ],
      "execution_count": null,
      "outputs": []
    },
    {
      "cell_type": "code",
      "metadata": {
        "id": "CsUUC4VjxoLh",
        "colab_type": "code",
        "colab": {}
      },
      "source": [
        "def create_network1(network_input, n_vocab):\n",
        "    \"\"\" create the structure of the neural network \"\"\"\n",
        "    model = Sequential()\n",
        "    model.add(LSTM(\n",
        "        512,\n",
        "        input_shape=(network_input.shape[1], network_input.shape[2]),\n",
        "        recurrent_dropout=0.3,\n",
        "        return_sequences=True\n",
        "    ))\n",
        "    model.add(LSTM(512, return_sequences=True, recurrent_dropout=0.3,))\n",
        "    model.add(LSTM(512))\n",
        "    model.add(BatchNorm())\n",
        "    model.add(Dropout(0.3))\n",
        "    model.add(Dense(256))\n",
        "    model.add(Activation('relu'))\n",
        "    model.add(BatchNorm())\n",
        "    model.add(Dropout(0.3))\n",
        "    model.add(Dense(n_vocab))\n",
        "    model.add(Activation('softmax'))\n",
        "    model.compile(loss='categorical_crossentropy', optimizer='rmsprop')\n",
        "\n",
        "    # Load the weights to each node\n",
        "    model.load_weights('weights-shark.hdf5')\n",
        "\n",
        "    return model"
      ],
      "execution_count": null,
      "outputs": []
    },
    {
      "cell_type": "code",
      "metadata": {
        "id": "D880jBi1yCBS",
        "colab_type": "code",
        "colab": {}
      },
      "source": [
        "def generate_notes(model, network_input, pitchnames, n_vocab):\n",
        "    \"\"\" Generate notes from the neural network based on a sequence of notes \"\"\"\n",
        "    # pick a random sequence from the input as a starting point for the prediction\n",
        "    start = numpy.random.randint(0, len(network_input)-1)\n",
        "\n",
        "    int_to_note = dict((number, note) for number, note in enumerate(pitchnames))\n",
        "\n",
        "    pattern = network_input[start]\n",
        "    prediction_output = []\n",
        "\n",
        "    # generate 500 notes\n",
        "    for note_index in range(500):\n",
        "        prediction_input = numpy.reshape(pattern, (1, len(pattern), 1))\n",
        "        prediction_input = prediction_input / float(n_vocab)\n",
        "\n",
        "        prediction = model.predict(prediction_input, verbose=0)\n",
        "\n",
        "        index = numpy.argmax(prediction)\n",
        "        result = int_to_note[index]\n",
        "        prediction_output.append(result)\n",
        "\n",
        "        pattern.append(index)\n",
        "        pattern = pattern[1:len(pattern)]\n",
        "\n",
        "    return prediction_output"
      ],
      "execution_count": null,
      "outputs": []
    },
    {
      "cell_type": "code",
      "metadata": {
        "id": "m8ETK_S3yExk",
        "colab_type": "code",
        "colab": {}
      },
      "source": [
        "def create_midi(prediction_output):\n",
        "    \"\"\" convert the output from the prediction to notes and create a midi file\n",
        "        from the notes \"\"\"\n",
        "    offset = 0\n",
        "    output_notes = []\n",
        "\n",
        "    # create note and chord objects based on the values generated by the model\n",
        "    for pattern in prediction_output:\n",
        "        # pattern is a chord\n",
        "        if ('.' in pattern) or pattern.isdigit():\n",
        "            notes_in_chord = pattern.split('.')\n",
        "            notes = []\n",
        "            for current_note in notes_in_chord:\n",
        "                new_note = note.Note(int(current_note))\n",
        "                new_note.storedInstrument = instrument.Piano()\n",
        "                notes.append(new_note)\n",
        "            new_chord = chord.Chord(notes)\n",
        "            new_chord.offset = offset\n",
        "            output_notes.append(new_chord)\n",
        "        # pattern is a note\n",
        "        else:\n",
        "            new_note = note.Note(pattern)\n",
        "            new_note.offset = offset\n",
        "            new_note.storedInstrument = instrument.Piano()\n",
        "            output_notes.append(new_note)\n",
        "\n",
        "        # increase offset each iteration so that notes do not stack\n",
        "        offset += 0.5\n",
        "\n",
        "    midi_stream = stream.Stream(output_notes)\n",
        "\n",
        "    midi_stream.write('midi', fp='test_output.mid')"
      ],
      "execution_count": null,
      "outputs": []
    },
    {
      "cell_type": "code",
      "metadata": {
        "id": "kbJ2XzBMyPlo",
        "colab_type": "code",
        "colab": {
          "base_uri": "https://localhost:8080/",
          "height": 1000
        },
        "outputId": "9ed8fd22-155a-4cdd-a60b-c1b979d37f69"
      },
      "source": [
        "train_network()"
      ],
      "execution_count": null,
      "outputs": [
        {
          "output_type": "stream",
          "text": [
            "Parsing /content/ midi/schu_143_3.mid\n",
            "Parsing /content/ midi/schubert_D850_2.mid\n",
            "Parsing /content/ midi/schumm-4.mid\n",
            "Parsing /content/ midi/schuim-3.mid\n",
            "Parsing /content/ midi/schub_d960_2.mid\n",
            "Parsing /content/ midi/schumm-2.mid\n",
            "Parsing /content/ midi/schubert_D935_3.mid\n",
            "Parsing /content/ midi/schu_143_2.mid\n",
            "Parsing /content/ midi/schub_d760_3.mid\n",
            "Parsing /content/ midi/schubert_D935_2.mid\n",
            "Parsing /content/ midi/schubert_D850_4.mid\n",
            "Parsing /content/ midi/schumm-3.mid\n",
            "Parsing /content/ midi/schub_d760_4.mid\n",
            "Parsing /content/ midi/schumm-5.mid\n",
            "Parsing /content/ midi/schuim-4.mid\n",
            "Parsing /content/ midi/schubert_D935_4.mid\n",
            "Parsing /content/ midi/schumm-1.mid\n",
            "Parsing /content/ midi/schu_143_1.mid\n",
            "Parsing /content/ midi/schub_d960_4.mid\n",
            "Parsing /content/ midi/schub_d760_1.mid\n",
            "Parsing /content/ midi/schub_d760_2.mid\n",
            "Parsing /content/ midi/schubert_D935_1.mid\n",
            "Parsing /content/ midi/schub_d960_3.mid\n",
            "Parsing /content/ midi/schuim-1.mid\n",
            "Parsing /content/ midi/schub_d960_1.mid\n",
            "Parsing /content/ midi/schumm-6.mid\n",
            "Parsing /content/ midi/schuim-2.mid\n",
            "Parsing /content/ midi/schubert_D850_3.mid\n",
            "Parsing /content/ midi/schubert_D850_1.mid\n",
            "Epoch 1/100\n",
            "83004/83004 [==============================] - 365s 4ms/step - loss: 5.1120\n",
            "Epoch 2/100\n",
            "83004/83004 [==============================] - 362s 4ms/step - loss: 4.7916\n",
            "Epoch 3/100\n",
            "83004/83004 [==============================] - 363s 4ms/step - loss: 4.7210\n",
            "Epoch 4/100\n",
            "83004/83004 [==============================] - 361s 4ms/step - loss: 4.6399\n",
            "Epoch 5/100\n",
            "83004/83004 [==============================] - 362s 4ms/step - loss: 4.5497\n",
            "Epoch 6/100\n",
            "83004/83004 [==============================] - 364s 4ms/step - loss: 4.4458\n",
            "Epoch 7/100\n",
            "83004/83004 [==============================] - 364s 4ms/step - loss: 4.3084\n",
            "Epoch 8/100\n",
            "83004/83004 [==============================] - 364s 4ms/step - loss: 4.1503\n",
            "Epoch 9/100\n",
            "83004/83004 [==============================] - 363s 4ms/step - loss: 3.9889\n",
            "Epoch 10/100\n",
            "83004/83004 [==============================] - 365s 4ms/step - loss: 3.8207\n",
            "Epoch 11/100\n",
            "83004/83004 [==============================] - 366s 4ms/step - loss: 3.6629\n",
            "Epoch 12/100\n",
            "83004/83004 [==============================] - 362s 4ms/step - loss: 3.5096\n",
            "Epoch 13/100\n",
            "83004/83004 [==============================] - 365s 4ms/step - loss: 3.3796\n",
            "Epoch 14/100\n",
            "83004/83004 [==============================] - 366s 4ms/step - loss: 3.2568\n",
            "Epoch 15/100\n",
            "83004/83004 [==============================] - 362s 4ms/step - loss: 3.1460\n",
            "Epoch 16/100\n",
            "83004/83004 [==============================] - 359s 4ms/step - loss: 3.0337\n",
            "Epoch 17/100\n",
            "83004/83004 [==============================] - 363s 4ms/step - loss: 2.9329\n",
            "Epoch 18/100\n",
            "83004/83004 [==============================] - 366s 4ms/step - loss: 2.8429\n",
            "Epoch 19/100\n",
            "83004/83004 [==============================] - 366s 4ms/step - loss: 2.7529\n",
            "Epoch 20/100\n",
            "83004/83004 [==============================] - 367s 4ms/step - loss: 2.6639\n",
            "Epoch 21/100\n",
            "83004/83004 [==============================] - 366s 4ms/step - loss: 2.5834\n",
            "Epoch 22/100\n",
            "83004/83004 [==============================] - 364s 4ms/step - loss: 2.4956\n",
            "Epoch 23/100\n",
            "83004/83004 [==============================] - 362s 4ms/step - loss: 2.4187\n",
            "Epoch 24/100\n",
            "83004/83004 [==============================] - 358s 4ms/step - loss: 2.3465\n",
            "Epoch 25/100\n",
            "83004/83004 [==============================] - 361s 4ms/step - loss: 2.2745\n",
            "Epoch 26/100\n",
            "83004/83004 [==============================] - 361s 4ms/step - loss: 2.2134\n",
            "Epoch 27/100\n",
            "83004/83004 [==============================] - 360s 4ms/step - loss: 2.1440\n",
            "Epoch 28/100\n",
            "83004/83004 [==============================] - 363s 4ms/step - loss: 2.0782\n",
            "Epoch 29/100\n",
            "83004/83004 [==============================] - 360s 4ms/step - loss: 2.0260\n",
            "Epoch 30/100\n",
            "83004/83004 [==============================] - 363s 4ms/step - loss: 1.9565\n",
            "Epoch 31/100\n",
            "83004/83004 [==============================] - 364s 4ms/step - loss: 1.9053\n",
            "Epoch 32/100\n",
            "83004/83004 [==============================] - 364s 4ms/step - loss: 1.8489\n",
            "Epoch 33/100\n",
            "83004/83004 [==============================] - 361s 4ms/step - loss: 1.8036\n",
            "Epoch 34/100\n",
            "83004/83004 [==============================] - 362s 4ms/step - loss: 1.7457\n",
            "Epoch 35/100\n",
            "83004/83004 [==============================] - 362s 4ms/step - loss: 1.7030\n",
            "Epoch 36/100\n",
            "83004/83004 [==============================] - 358s 4ms/step - loss: 1.6582\n",
            "Epoch 37/100\n",
            "83004/83004 [==============================] - 359s 4ms/step - loss: 1.6126\n",
            "Epoch 38/100\n",
            "83004/83004 [==============================] - 358s 4ms/step - loss: 1.5722\n",
            "Epoch 39/100\n",
            "83004/83004 [==============================] - 359s 4ms/step - loss: 1.5279\n",
            "Epoch 40/100\n",
            "83004/83004 [==============================] - 358s 4ms/step - loss: 1.4916\n",
            "Epoch 41/100\n",
            "83004/83004 [==============================] - 360s 4ms/step - loss: 1.4560\n",
            "Epoch 42/100\n",
            "83004/83004 [==============================] - 358s 4ms/step - loss: 1.4151\n",
            "Epoch 43/100\n",
            "83004/83004 [==============================] - 359s 4ms/step - loss: 1.3804\n",
            "Epoch 44/100\n",
            "83004/83004 [==============================] - 357s 4ms/step - loss: 1.3440\n",
            "Epoch 45/100\n",
            "83004/83004 [==============================] - 357s 4ms/step - loss: 1.3189\n",
            "Epoch 46/100\n",
            "83004/83004 [==============================] - 359s 4ms/step - loss: 1.2926\n",
            "Epoch 47/100\n",
            "83004/83004 [==============================] - 360s 4ms/step - loss: 1.2573\n",
            "Epoch 48/100\n",
            "83004/83004 [==============================] - 357s 4ms/step - loss: 1.2283\n",
            "Epoch 49/100\n",
            "83004/83004 [==============================] - 359s 4ms/step - loss: 1.1940\n",
            "Epoch 50/100\n",
            "83004/83004 [==============================] - 360s 4ms/step - loss: 1.1676\n",
            "Epoch 51/100\n",
            "83004/83004 [==============================] - 360s 4ms/step - loss: 1.1446\n",
            "Epoch 52/100\n",
            "83004/83004 [==============================] - 361s 4ms/step - loss: 1.1163\n",
            "Epoch 53/100\n",
            "83004/83004 [==============================] - 357s 4ms/step - loss: 1.0976\n",
            "Epoch 54/100\n",
            "83004/83004 [==============================] - 358s 4ms/step - loss: 1.0697\n",
            "Epoch 55/100\n",
            "83004/83004 [==============================] - 358s 4ms/step - loss: 1.0419\n",
            "Epoch 56/100\n",
            "83004/83004 [==============================] - 361s 4ms/step - loss: 1.0225\n",
            "Epoch 57/100\n",
            "83004/83004 [==============================] - 359s 4ms/step - loss: 1.0035\n",
            "Epoch 58/100\n",
            "83004/83004 [==============================] - 360s 4ms/step - loss: 0.9839\n",
            "Epoch 59/100\n",
            "83004/83004 [==============================] - 360s 4ms/step - loss: 0.9728\n",
            "Epoch 60/100\n",
            "83004/83004 [==============================] - 362s 4ms/step - loss: 0.9505\n",
            "Epoch 61/100\n",
            "83004/83004 [==============================] - 365s 4ms/step - loss: 0.9298\n",
            "Epoch 62/100\n",
            "83004/83004 [==============================] - 365s 4ms/step - loss: 0.9112\n",
            "Epoch 63/100\n",
            "83004/83004 [==============================] - 360s 4ms/step - loss: 0.8920\n",
            "Epoch 64/100\n",
            "83004/83004 [==============================] - 359s 4ms/step - loss: 0.8844\n",
            "Epoch 65/100\n",
            "83004/83004 [==============================] - 358s 4ms/step - loss: 0.8644\n",
            "Epoch 66/100\n",
            " 3840/83004 [>.............................] - ETA: 5:45 - loss: 0.7490"
          ],
          "name": "stdout"
        }
      ]
    },
    {
      "cell_type": "code",
      "metadata": {
        "id": "Ls6XvRhMyKBo",
        "colab_type": "code",
        "colab": {}
      },
      "source": [
        "generate()"
      ],
      "execution_count": null,
      "outputs": []
    },
    {
      "cell_type": "code",
      "metadata": {
        "id": "HvrvtJQdKx71",
        "colab_type": "code",
        "colab": {}
      },
      "source": [
        ""
      ],
      "execution_count": null,
      "outputs": []
    }
  ]
}